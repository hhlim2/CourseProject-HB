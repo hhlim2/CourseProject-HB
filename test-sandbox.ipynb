{
 "cells": [
  {
   "cell_type": "code",
   "execution_count": 1,
   "metadata": {},
   "outputs": [],
   "source": [
    "from newscatcherapi import NewsCatcherApiClient\n",
    "import os \n",
    "\n",
    "api_key = os.getenv('news_api', None)\n",
    "newscatcherapi = NewsCatcherApiClient(x_api_key=api_key) "
   ]
  },
  {
   "cell_type": "code",
   "execution_count": 2,
   "metadata": {},
   "outputs": [
    {
     "ename": "TypeError",
     "evalue": "expected string or bytes-like object, got 'NoneType'",
     "output_type": "error",
     "traceback": [
      "\u001b[1;31m---------------------------------------------------------------------------\u001b[0m",
      "\u001b[1;31mTypeError\u001b[0m                                 Traceback (most recent call last)",
      "\u001b[1;32mc:\\Users\\hhben\\Desktop\\cs410\\Final Project\\test.ipynb Cell 2\u001b[0m line \u001b[0;36m1\n\u001b[1;32m----> <a href='vscode-notebook-cell:/c%3A/Users/hhben/Desktop/cs410/Final%20Project/test.ipynb#W1sZmlsZQ%3D%3D?line=0'>1</a>\u001b[0m all_articles \u001b[39m=\u001b[39m newscatcherapi\u001b[39m.\u001b[39;49mget_search(q\u001b[39m=\u001b[39;49m\u001b[39m'\u001b[39;49m\u001b[39mhurricane katrina\u001b[39;49m\u001b[39m'\u001b[39;49m,\n\u001b[0;32m      <a href='vscode-notebook-cell:/c%3A/Users/hhben/Desktop/cs410/Final%20Project/test.ipynb#W1sZmlsZQ%3D%3D?line=1'>2</a>\u001b[0m                                         lang\u001b[39m=\u001b[39;49m\u001b[39m'\u001b[39;49m\u001b[39men\u001b[39;49m\u001b[39m'\u001b[39;49m,\n\u001b[0;32m      <a href='vscode-notebook-cell:/c%3A/Users/hhben/Desktop/cs410/Final%20Project/test.ipynb#W1sZmlsZQ%3D%3D?line=2'>3</a>\u001b[0m                                         countries\u001b[39m=\u001b[39;49m\u001b[39m'\u001b[39;49m\u001b[39mUS\u001b[39;49m\u001b[39m'\u001b[39;49m,\n\u001b[0;32m      <a href='vscode-notebook-cell:/c%3A/Users/hhben/Desktop/cs410/Final%20Project/test.ipynb#W1sZmlsZQ%3D%3D?line=3'>4</a>\u001b[0m                                         page_size\u001b[39m=\u001b[39;49m\u001b[39m5\u001b[39;49m,  \n\u001b[0;32m      <a href='vscode-notebook-cell:/c%3A/Users/hhben/Desktop/cs410/Final%20Project/test.ipynb#W1sZmlsZQ%3D%3D?line=4'>5</a>\u001b[0m                                         sources\u001b[39m=\u001b[39;49m[\u001b[39m'\u001b[39;49m\u001b[39mcnn.com\u001b[39;49m\u001b[39m'\u001b[39;49m, \u001b[39m'\u001b[39;49m\u001b[39mnytimes.com\u001b[39;49m\u001b[39m'\u001b[39;49m, \u001b[39m'\u001b[39;49m\u001b[39musatoday.com\u001b[39;49m\u001b[39m'\u001b[39;49m, \u001b[39m'\u001b[39;49m\u001b[39mabcnews.go.com\u001b[39;49m\u001b[39m'\u001b[39;49m,\u001b[39m'\u001b[39;49m\u001b[39mnbcnews.com\u001b[39;49m\u001b[39m'\u001b[39;49m, \u001b[39m'\u001b[39;49m\u001b[39mwww.usnews.com\u001b[39;49m\u001b[39m'\u001b[39;49m, \u001b[39m'\u001b[39;49m\u001b[39mcbsnews.com\u001b[39;49m\u001b[39m'\u001b[39;49m ]  \n\u001b[0;32m      <a href='vscode-notebook-cell:/c%3A/Users/hhben/Desktop/cs410/Final%20Project/test.ipynb#W1sZmlsZQ%3D%3D?line=5'>6</a>\u001b[0m                                         )\n\u001b[0;32m      <a href='vscode-notebook-cell:/c%3A/Users/hhben/Desktop/cs410/Final%20Project/test.ipynb#W1sZmlsZQ%3D%3D?line=6'>7</a>\u001b[0m links \u001b[39m=\u001b[39m []\n\u001b[0;32m      <a href='vscode-notebook-cell:/c%3A/Users/hhben/Desktop/cs410/Final%20Project/test.ipynb#W1sZmlsZQ%3D%3D?line=7'>8</a>\u001b[0m titles \u001b[39m=\u001b[39m []\n",
      "File \u001b[1;32mc:\\Users\\hhben\\Desktop\\cs410\\Final Project\\.venv\\Lib\\site-packages\\newscatcherapi\\newscatcherapi_client.py:376\u001b[0m, in \u001b[0;36mNewsCatcherApiClient.get_search\u001b[1;34m(self, q, lang, not_lang, from_, to_, published_date_precision, search_in, countries, not_countries, topic, sources, not_sources, ranked_only, from_rank, to_rank, sort_by, page_size, page, proxies)\u001b[0m\n\u001b[0;32m    373\u001b[0m         \u001b[39mraise\u001b[39;00m \u001b[39mTypeError\u001b[39;00m(\u001b[39m\"\u001b[39m\u001b[39mpage param should be an int\u001b[39m\u001b[39m\"\u001b[39m)\n\u001b[0;32m    375\u001b[0m \u001b[39m# Send Request\u001b[39;00m\n\u001b[1;32m--> 376\u001b[0m r \u001b[39m=\u001b[39m \u001b[39mself\u001b[39;49m\u001b[39m.\u001b[39;49mrequest_method\u001b[39m.\u001b[39;49mget(\u001b[39mself\u001b[39;49m\u001b[39m.\u001b[39;49mbase_url \u001b[39m+\u001b[39;49m const\u001b[39m.\u001b[39;49mSEARCH_URL, auth\u001b[39m=\u001b[39;49m\u001b[39mself\u001b[39;49m\u001b[39m.\u001b[39;49mauth, timeout\u001b[39m=\u001b[39;49m\u001b[39m30\u001b[39;49m, params\u001b[39m=\u001b[39;49mpayload, proxies\u001b[39m=\u001b[39;49mproxies)\n\u001b[0;32m    378\u001b[0m \u001b[39m# Check Status of Request\u001b[39;00m\n\u001b[0;32m    379\u001b[0m \u001b[39mif\u001b[39;00m r\u001b[39m.\u001b[39mstatus_code \u001b[39m!=\u001b[39m requests\u001b[39m.\u001b[39mcodes\u001b[39m.\u001b[39mok:\n",
      "File \u001b[1;32mc:\\Users\\hhben\\Desktop\\cs410\\Final Project\\.venv\\Lib\\site-packages\\requests\\api.py:73\u001b[0m, in \u001b[0;36mget\u001b[1;34m(url, params, **kwargs)\u001b[0m\n\u001b[0;32m     62\u001b[0m \u001b[39mdef\u001b[39;00m \u001b[39mget\u001b[39m(url, params\u001b[39m=\u001b[39m\u001b[39mNone\u001b[39;00m, \u001b[39m*\u001b[39m\u001b[39m*\u001b[39mkwargs):\n\u001b[0;32m     63\u001b[0m \u001b[39m    \u001b[39m\u001b[39mr\u001b[39m\u001b[39m\"\"\"Sends a GET request.\u001b[39;00m\n\u001b[0;32m     64\u001b[0m \n\u001b[0;32m     65\u001b[0m \u001b[39m    :param url: URL for the new :class:`Request` object.\u001b[39;00m\n\u001b[1;32m   (...)\u001b[0m\n\u001b[0;32m     70\u001b[0m \u001b[39m    :rtype: requests.Response\u001b[39;00m\n\u001b[0;32m     71\u001b[0m \u001b[39m    \"\"\"\u001b[39;00m\n\u001b[1;32m---> 73\u001b[0m     \u001b[39mreturn\u001b[39;00m request(\u001b[39m\"\u001b[39;49m\u001b[39mget\u001b[39;49m\u001b[39m\"\u001b[39;49m, url, params\u001b[39m=\u001b[39;49mparams, \u001b[39m*\u001b[39;49m\u001b[39m*\u001b[39;49mkwargs)\n",
      "File \u001b[1;32mc:\\Users\\hhben\\Desktop\\cs410\\Final Project\\.venv\\Lib\\site-packages\\requests\\api.py:59\u001b[0m, in \u001b[0;36mrequest\u001b[1;34m(method, url, **kwargs)\u001b[0m\n\u001b[0;32m     55\u001b[0m \u001b[39m# By using the 'with' statement we are sure the session is closed, thus we\u001b[39;00m\n\u001b[0;32m     56\u001b[0m \u001b[39m# avoid leaving sockets open which can trigger a ResourceWarning in some\u001b[39;00m\n\u001b[0;32m     57\u001b[0m \u001b[39m# cases, and look like a memory leak in others.\u001b[39;00m\n\u001b[0;32m     58\u001b[0m \u001b[39mwith\u001b[39;00m sessions\u001b[39m.\u001b[39mSession() \u001b[39mas\u001b[39;00m session:\n\u001b[1;32m---> 59\u001b[0m     \u001b[39mreturn\u001b[39;00m session\u001b[39m.\u001b[39;49mrequest(method\u001b[39m=\u001b[39;49mmethod, url\u001b[39m=\u001b[39;49murl, \u001b[39m*\u001b[39;49m\u001b[39m*\u001b[39;49mkwargs)\n",
      "File \u001b[1;32mc:\\Users\\hhben\\Desktop\\cs410\\Final Project\\.venv\\Lib\\site-packages\\requests\\sessions.py:589\u001b[0m, in \u001b[0;36mSession.request\u001b[1;34m(self, method, url, params, data, headers, cookies, files, auth, timeout, allow_redirects, proxies, hooks, stream, verify, cert, json)\u001b[0m\n\u001b[0;32m    584\u001b[0m send_kwargs \u001b[39m=\u001b[39m {\n\u001b[0;32m    585\u001b[0m     \u001b[39m\"\u001b[39m\u001b[39mtimeout\u001b[39m\u001b[39m\"\u001b[39m: timeout,\n\u001b[0;32m    586\u001b[0m     \u001b[39m\"\u001b[39m\u001b[39mallow_redirects\u001b[39m\u001b[39m\"\u001b[39m: allow_redirects,\n\u001b[0;32m    587\u001b[0m }\n\u001b[0;32m    588\u001b[0m send_kwargs\u001b[39m.\u001b[39mupdate(settings)\n\u001b[1;32m--> 589\u001b[0m resp \u001b[39m=\u001b[39m \u001b[39mself\u001b[39;49m\u001b[39m.\u001b[39;49msend(prep, \u001b[39m*\u001b[39;49m\u001b[39m*\u001b[39;49msend_kwargs)\n\u001b[0;32m    591\u001b[0m \u001b[39mreturn\u001b[39;00m resp\n",
      "File \u001b[1;32mc:\\Users\\hhben\\Desktop\\cs410\\Final Project\\.venv\\Lib\\site-packages\\requests\\sessions.py:703\u001b[0m, in \u001b[0;36mSession.send\u001b[1;34m(self, request, **kwargs)\u001b[0m\n\u001b[0;32m    700\u001b[0m start \u001b[39m=\u001b[39m preferred_clock()\n\u001b[0;32m    702\u001b[0m \u001b[39m# Send the request\u001b[39;00m\n\u001b[1;32m--> 703\u001b[0m r \u001b[39m=\u001b[39m adapter\u001b[39m.\u001b[39;49msend(request, \u001b[39m*\u001b[39;49m\u001b[39m*\u001b[39;49mkwargs)\n\u001b[0;32m    705\u001b[0m \u001b[39m# Total elapsed time of the request (approximately)\u001b[39;00m\n\u001b[0;32m    706\u001b[0m elapsed \u001b[39m=\u001b[39m preferred_clock() \u001b[39m-\u001b[39m start\n",
      "File \u001b[1;32mc:\\Users\\hhben\\Desktop\\cs410\\Final Project\\.venv\\Lib\\site-packages\\requests\\adapters.py:486\u001b[0m, in \u001b[0;36mHTTPAdapter.send\u001b[1;34m(self, request, stream, timeout, verify, cert, proxies)\u001b[0m\n\u001b[0;32m    483\u001b[0m     timeout \u001b[39m=\u001b[39m TimeoutSauce(connect\u001b[39m=\u001b[39mtimeout, read\u001b[39m=\u001b[39mtimeout)\n\u001b[0;32m    485\u001b[0m \u001b[39mtry\u001b[39;00m:\n\u001b[1;32m--> 486\u001b[0m     resp \u001b[39m=\u001b[39m conn\u001b[39m.\u001b[39;49murlopen(\n\u001b[0;32m    487\u001b[0m         method\u001b[39m=\u001b[39;49mrequest\u001b[39m.\u001b[39;49mmethod,\n\u001b[0;32m    488\u001b[0m         url\u001b[39m=\u001b[39;49murl,\n\u001b[0;32m    489\u001b[0m         body\u001b[39m=\u001b[39;49mrequest\u001b[39m.\u001b[39;49mbody,\n\u001b[0;32m    490\u001b[0m         headers\u001b[39m=\u001b[39;49mrequest\u001b[39m.\u001b[39;49mheaders,\n\u001b[0;32m    491\u001b[0m         redirect\u001b[39m=\u001b[39;49m\u001b[39mFalse\u001b[39;49;00m,\n\u001b[0;32m    492\u001b[0m         assert_same_host\u001b[39m=\u001b[39;49m\u001b[39mFalse\u001b[39;49;00m,\n\u001b[0;32m    493\u001b[0m         preload_content\u001b[39m=\u001b[39;49m\u001b[39mFalse\u001b[39;49;00m,\n\u001b[0;32m    494\u001b[0m         decode_content\u001b[39m=\u001b[39;49m\u001b[39mFalse\u001b[39;49;00m,\n\u001b[0;32m    495\u001b[0m         retries\u001b[39m=\u001b[39;49m\u001b[39mself\u001b[39;49m\u001b[39m.\u001b[39;49mmax_retries,\n\u001b[0;32m    496\u001b[0m         timeout\u001b[39m=\u001b[39;49mtimeout,\n\u001b[0;32m    497\u001b[0m         chunked\u001b[39m=\u001b[39;49mchunked,\n\u001b[0;32m    498\u001b[0m     )\n\u001b[0;32m    500\u001b[0m \u001b[39mexcept\u001b[39;00m (ProtocolError, \u001b[39mOSError\u001b[39;00m) \u001b[39mas\u001b[39;00m err:\n\u001b[0;32m    501\u001b[0m     \u001b[39mraise\u001b[39;00m \u001b[39mConnectionError\u001b[39;00m(err, request\u001b[39m=\u001b[39mrequest)\n",
      "File \u001b[1;32mc:\\Users\\hhben\\Desktop\\cs410\\Final Project\\.venv\\Lib\\site-packages\\urllib3\\connectionpool.py:791\u001b[0m, in \u001b[0;36mHTTPConnectionPool.urlopen\u001b[1;34m(self, method, url, body, headers, retries, redirect, assert_same_host, timeout, pool_timeout, release_conn, chunked, body_pos, preload_content, decode_content, **response_kw)\u001b[0m\n\u001b[0;32m    788\u001b[0m response_conn \u001b[39m=\u001b[39m conn \u001b[39mif\u001b[39;00m \u001b[39mnot\u001b[39;00m release_conn \u001b[39melse\u001b[39;00m \u001b[39mNone\u001b[39;00m\n\u001b[0;32m    790\u001b[0m \u001b[39m# Make the request on the HTTPConnection object\u001b[39;00m\n\u001b[1;32m--> 791\u001b[0m response \u001b[39m=\u001b[39m \u001b[39mself\u001b[39;49m\u001b[39m.\u001b[39;49m_make_request(\n\u001b[0;32m    792\u001b[0m     conn,\n\u001b[0;32m    793\u001b[0m     method,\n\u001b[0;32m    794\u001b[0m     url,\n\u001b[0;32m    795\u001b[0m     timeout\u001b[39m=\u001b[39;49mtimeout_obj,\n\u001b[0;32m    796\u001b[0m     body\u001b[39m=\u001b[39;49mbody,\n\u001b[0;32m    797\u001b[0m     headers\u001b[39m=\u001b[39;49mheaders,\n\u001b[0;32m    798\u001b[0m     chunked\u001b[39m=\u001b[39;49mchunked,\n\u001b[0;32m    799\u001b[0m     retries\u001b[39m=\u001b[39;49mretries,\n\u001b[0;32m    800\u001b[0m     response_conn\u001b[39m=\u001b[39;49mresponse_conn,\n\u001b[0;32m    801\u001b[0m     preload_content\u001b[39m=\u001b[39;49mpreload_content,\n\u001b[0;32m    802\u001b[0m     decode_content\u001b[39m=\u001b[39;49mdecode_content,\n\u001b[0;32m    803\u001b[0m     \u001b[39m*\u001b[39;49m\u001b[39m*\u001b[39;49mresponse_kw,\n\u001b[0;32m    804\u001b[0m )\n\u001b[0;32m    806\u001b[0m \u001b[39m# Everything went great!\u001b[39;00m\n\u001b[0;32m    807\u001b[0m clean_exit \u001b[39m=\u001b[39m \u001b[39mTrue\u001b[39;00m\n",
      "File \u001b[1;32mc:\\Users\\hhben\\Desktop\\cs410\\Final Project\\.venv\\Lib\\site-packages\\urllib3\\connectionpool.py:497\u001b[0m, in \u001b[0;36mHTTPConnectionPool._make_request\u001b[1;34m(self, conn, method, url, body, headers, retries, timeout, chunked, response_conn, preload_content, decode_content, enforce_content_length)\u001b[0m\n\u001b[0;32m    494\u001b[0m \u001b[39m# conn.request() calls http.client.*.request, not the method in\u001b[39;00m\n\u001b[0;32m    495\u001b[0m \u001b[39m# urllib3.request. It also calls makefile (recv) on the socket.\u001b[39;00m\n\u001b[0;32m    496\u001b[0m \u001b[39mtry\u001b[39;00m:\n\u001b[1;32m--> 497\u001b[0m     conn\u001b[39m.\u001b[39;49mrequest(\n\u001b[0;32m    498\u001b[0m         method,\n\u001b[0;32m    499\u001b[0m         url,\n\u001b[0;32m    500\u001b[0m         body\u001b[39m=\u001b[39;49mbody,\n\u001b[0;32m    501\u001b[0m         headers\u001b[39m=\u001b[39;49mheaders,\n\u001b[0;32m    502\u001b[0m         chunked\u001b[39m=\u001b[39;49mchunked,\n\u001b[0;32m    503\u001b[0m         preload_content\u001b[39m=\u001b[39;49mpreload_content,\n\u001b[0;32m    504\u001b[0m         decode_content\u001b[39m=\u001b[39;49mdecode_content,\n\u001b[0;32m    505\u001b[0m         enforce_content_length\u001b[39m=\u001b[39;49menforce_content_length,\n\u001b[0;32m    506\u001b[0m     )\n\u001b[0;32m    508\u001b[0m \u001b[39m# We are swallowing BrokenPipeError (errno.EPIPE) since the server is\u001b[39;00m\n\u001b[0;32m    509\u001b[0m \u001b[39m# legitimately able to close the connection after sending a valid response.\u001b[39;00m\n\u001b[0;32m    510\u001b[0m \u001b[39m# With this behaviour, the received response is still readable.\u001b[39;00m\n\u001b[0;32m    511\u001b[0m \u001b[39mexcept\u001b[39;00m \u001b[39mBrokenPipeError\u001b[39;00m:\n",
      "File \u001b[1;32mc:\\Users\\hhben\\Desktop\\cs410\\Final Project\\.venv\\Lib\\site-packages\\urllib3\\connection.py:394\u001b[0m, in \u001b[0;36mHTTPConnection.request\u001b[1;34m(self, method, url, body, headers, chunked, preload_content, decode_content, enforce_content_length)\u001b[0m\n\u001b[0;32m    392\u001b[0m     \u001b[39mself\u001b[39m\u001b[39m.\u001b[39mputheader(\u001b[39m\"\u001b[39m\u001b[39mUser-Agent\u001b[39m\u001b[39m\"\u001b[39m, _get_default_user_agent())\n\u001b[0;32m    393\u001b[0m \u001b[39mfor\u001b[39;00m header, value \u001b[39min\u001b[39;00m headers\u001b[39m.\u001b[39mitems():\n\u001b[1;32m--> 394\u001b[0m     \u001b[39mself\u001b[39;49m\u001b[39m.\u001b[39;49mputheader(header, value)\n\u001b[0;32m    395\u001b[0m \u001b[39mself\u001b[39m\u001b[39m.\u001b[39mendheaders()\n\u001b[0;32m    397\u001b[0m \u001b[39m# If we're given a body we start sending that in chunks.\u001b[39;00m\n",
      "File \u001b[1;32mc:\\Users\\hhben\\Desktop\\cs410\\Final Project\\.venv\\Lib\\site-packages\\urllib3\\connection.py:308\u001b[0m, in \u001b[0;36mHTTPConnection.putheader\u001b[1;34m(self, header, *values)\u001b[0m\n\u001b[0;32m    306\u001b[0m \u001b[39m\u001b[39m\u001b[39m\"\"\"\"\"\"\u001b[39;00m\n\u001b[0;32m    307\u001b[0m \u001b[39mif\u001b[39;00m \u001b[39mnot\u001b[39;00m \u001b[39many\u001b[39m(\u001b[39misinstance\u001b[39m(v, \u001b[39mstr\u001b[39m) \u001b[39mand\u001b[39;00m v \u001b[39m==\u001b[39m SKIP_HEADER \u001b[39mfor\u001b[39;00m v \u001b[39min\u001b[39;00m values):\n\u001b[1;32m--> 308\u001b[0m     \u001b[39msuper\u001b[39;49m()\u001b[39m.\u001b[39;49mputheader(header, \u001b[39m*\u001b[39;49mvalues)\n\u001b[0;32m    309\u001b[0m \u001b[39melif\u001b[39;00m to_str(header\u001b[39m.\u001b[39mlower()) \u001b[39mnot\u001b[39;00m \u001b[39min\u001b[39;00m SKIPPABLE_HEADERS:\n\u001b[0;32m    310\u001b[0m     skippable_headers \u001b[39m=\u001b[39m \u001b[39m\"\u001b[39m\u001b[39m'\u001b[39m\u001b[39m, \u001b[39m\u001b[39m'\u001b[39m\u001b[39m\"\u001b[39m\u001b[39m.\u001b[39mjoin(\n\u001b[0;32m    311\u001b[0m         [\u001b[39mstr\u001b[39m\u001b[39m.\u001b[39mtitle(header) \u001b[39mfor\u001b[39;00m header \u001b[39min\u001b[39;00m \u001b[39msorted\u001b[39m(SKIPPABLE_HEADERS)]\n\u001b[0;32m    312\u001b[0m     )\n",
      "File \u001b[1;32mC:\\Program Files\\WindowsApps\\PythonSoftwareFoundation.Python.3.11_3.11.1776.0_x64__qbz5n2kfra8p0\\Lib\\http\\client.py:1263\u001b[0m, in \u001b[0;36mHTTPConnection.putheader\u001b[1;34m(self, header, *values)\u001b[0m\n\u001b[0;32m   1260\u001b[0m     \u001b[39melif\u001b[39;00m \u001b[39misinstance\u001b[39m(one_value, \u001b[39mint\u001b[39m):\n\u001b[0;32m   1261\u001b[0m         values[i] \u001b[39m=\u001b[39m \u001b[39mstr\u001b[39m(one_value)\u001b[39m.\u001b[39mencode(\u001b[39m'\u001b[39m\u001b[39mascii\u001b[39m\u001b[39m'\u001b[39m)\n\u001b[1;32m-> 1263\u001b[0m     \u001b[39mif\u001b[39;00m _is_illegal_header_value(values[i]):\n\u001b[0;32m   1264\u001b[0m         \u001b[39mraise\u001b[39;00m \u001b[39mValueError\u001b[39;00m(\u001b[39m'\u001b[39m\u001b[39mInvalid header value \u001b[39m\u001b[39m%r\u001b[39;00m\u001b[39m'\u001b[39m \u001b[39m%\u001b[39m (values[i],))\n\u001b[0;32m   1266\u001b[0m value \u001b[39m=\u001b[39m \u001b[39mb\u001b[39m\u001b[39m'\u001b[39m\u001b[39m\\r\u001b[39;00m\u001b[39m\\n\u001b[39;00m\u001b[39m\\t\u001b[39;00m\u001b[39m'\u001b[39m\u001b[39m.\u001b[39mjoin(values)\n",
      "\u001b[1;31mTypeError\u001b[0m: expected string or bytes-like object, got 'NoneType'"
     ]
    }
   ],
   "source": [
    "all_articles = newscatcherapi.get_search(q='hurricane katrina',\n",
    "                                        lang='en',\n",
    "                                        countries='US',\n",
    "                                        page_size=5,  \n",
    "                                        sources=['cnn.com', 'nytimes.com', 'usatoday.com', 'abcnews.go.com','nbcnews.com', 'www.usnews.com', 'cbsnews.com' ]  \n",
    "                                        )\n",
    "links = []\n",
    "titles = []\n",
    "for i in range(len(all_articles['articles'])):\n",
    "    links.append(all_articles['articles'][i]['link'])\n",
    "    titles.append(all_articles['articles'][i]['title'])\n",
    "\n",
    "print(links)\n",
    "print(titles)"
   ]
  },
  {
   "cell_type": "code",
   "execution_count": 1,
   "metadata": {},
   "outputs": [],
   "source": [
    "idf = [1,2,3,4]\n",
    "freq_qd = [1,2,3,4]\n",
    "k1= 1.2\n",
    "b = 0.\n",
    "dl = 10\n",
    "avg_dl = 8\n",
    "\n",
    "\n",
    "score_doc = 0\n",
    "for i in range(len(freq_qd)):\n",
    "    score_doc += idf[i] * ((freq_qd[i] * (k1 + 1))/(freq_qd[i] + k1*(1-b + b*dl/avg_dl)))\n"
   ]
  },
  {
   "cell_type": "code",
   "execution_count": 2,
   "metadata": {},
   "outputs": [
    {
     "data": {
      "text/plain": [
       "15.233516483516485"
      ]
     },
     "execution_count": 2,
     "metadata": {},
     "output_type": "execute_result"
    }
   ],
   "source": [
    "score_doc\n"
   ]
  },
  {
   "cell_type": "code",
   "execution_count": 4,
   "metadata": {},
   "outputs": [
    {
     "name": "stderr",
     "output_type": "stream",
     "text": [
      "[nltk_data] Downloading package stopwords to\n",
      "[nltk_data]     C:\\Users\\hhben\\AppData\\Roaming\\nltk_data...\n",
      "[nltk_data]   Package stopwords is already up-to-date!\n"
     ]
    }
   ],
   "source": [
    "import numpy as np\n",
    "import nltk\n",
    "nltk.download('stopwords')\n",
    "from nltk.corpus import stopwords\n",
    "\n",
    "question = 'who is the president of the united states'"
   ]
  },
  {
   "cell_type": "code",
   "execution_count": 13,
   "metadata": {},
   "outputs": [],
   "source": [
    "def remove_stopwords(q):\n",
    "\n",
    "        stop_words = stopwords.words('english')\n",
    "        q_updated = [w for w in q.lower().split(' ') if w not in stop_words]\n",
    "        return q_updated"
   ]
  },
  {
   "cell_type": "code",
   "execution_count": 14,
   "metadata": {},
   "outputs": [
    {
     "data": {
      "text/plain": [
       "['president', 'united', 'states']"
      ]
     },
     "execution_count": 14,
     "metadata": {},
     "output_type": "execute_result"
    }
   ],
   "source": [
    "remove_stopwords(question)"
   ]
  },
  {
   "cell_type": "code",
   "execution_count": 35,
   "metadata": {},
   "outputs": [
    {
     "data": {
      "text/html": [
       "<div>\n",
       "<style scoped>\n",
       "    .dataframe tbody tr th:only-of-type {\n",
       "        vertical-align: middle;\n",
       "    }\n",
       "\n",
       "    .dataframe tbody tr th {\n",
       "        vertical-align: top;\n",
       "    }\n",
       "\n",
       "    .dataframe thead th {\n",
       "        text-align: right;\n",
       "    }\n",
       "</style>\n",
       "<table border=\"1\" class=\"dataframe\">\n",
       "  <thead>\n",
       "    <tr style=\"text-align: right;\">\n",
       "      <th></th>\n",
       "      <th>url</th>\n",
       "      <th>url_mobile</th>\n",
       "      <th>title</th>\n",
       "      <th>seendate</th>\n",
       "      <th>socialimage</th>\n",
       "      <th>domain</th>\n",
       "      <th>language</th>\n",
       "      <th>sourcecountry</th>\n",
       "    </tr>\n",
       "  </thead>\n",
       "  <tbody>\n",
       "    <tr>\n",
       "      <th>0</th>\n",
       "      <td>https://freerepublic.com/focus/f-news/4186135/...</td>\n",
       "      <td></td>\n",
       "      <td>Man Blames Wife for Packing a Revolver into hi...</td>\n",
       "      <td>20231001T131500Z</td>\n",
       "      <td></td>\n",
       "      <td>freerepublic.com</td>\n",
       "      <td>English</td>\n",
       "      <td>United States</td>\n",
       "    </tr>\n",
       "    <tr>\n",
       "      <th>1</th>\n",
       "      <td>https://www.swapacd.com/Godhead-2000-Years-Hum...</td>\n",
       "      <td></td>\n",
       "      <td>Godhead - 2000 Years of Human Error ( 11 track...</td>\n",
       "      <td>20230825T200000Z</td>\n",
       "      <td></td>\n",
       "      <td>swapacd.com</td>\n",
       "      <td>English</td>\n",
       "      <td>United States</td>\n",
       "    </tr>\n",
       "  </tbody>\n",
       "</table>\n",
       "</div>"
      ],
      "text/plain": [
       "                                                 url url_mobile  \\\n",
       "0  https://freerepublic.com/focus/f-news/4186135/...              \n",
       "1  https://www.swapacd.com/Godhead-2000-Years-Hum...              \n",
       "\n",
       "                                               title          seendate  \\\n",
       "0  Man Blames Wife for Packing a Revolver into hi...  20231001T131500Z   \n",
       "1  Godhead - 2000 Years of Human Error ( 11 track...  20230825T200000Z   \n",
       "\n",
       "  socialimage            domain language  sourcecountry  \n",
       "0              freerepublic.com  English  United States  \n",
       "1                   swapacd.com  English  United States  "
      ]
     },
     "execution_count": 35,
     "metadata": {},
     "output_type": "execute_result"
    }
   ],
   "source": [
    "from gdeltdoc import GdeltDoc, Filters\n",
    "\n",
    "f = Filters(\n",
    "    keyword = \"09-11-2001\",\n",
    "    start_date = \"2023-05-10\",\n",
    "    end_date = \"2023-11-01\",\n",
    "    country = 'US',\n",
    "    num_records = 5,\n",
    "\n",
    ")\n",
    "\n",
    "gd = GdeltDoc()\n",
    "\n",
    "# Search for articles matching the filters\n",
    "articles = gd.article_search(f)\n",
    "\n",
    "articles"
   ]
  },
  {
   "cell_type": "code",
   "execution_count": 28,
   "metadata": {},
   "outputs": [
    {
     "name": "stderr",
     "output_type": "stream",
     "text": [
      "Special tokens have been added in the vocabulary, make sure the associated word embeddings are fine-tuned or trained.\n"
     ]
    },
    {
     "data": {
      "text/plain": [
       "'<pad> The attacks on the World Trade Center and the Pentagon</s>'"
      ]
     },
     "execution_count": 28,
     "metadata": {},
     "output_type": "execute_result"
    }
   ],
   "source": [
    "from transformers import T5Tokenizer, T5ForConditionalGeneration\n",
    "\n",
    "tokenizer = T5Tokenizer.from_pretrained(\"google/flan-t5-large\")\n",
    "model = T5ForConditionalGeneration.from_pretrained(\"google/flan-t5-large\")\n",
    "query = 'what happened on september 11, 2001'\n",
    "input_text = f\"answer the question: {query}.\"\n",
    "\n",
    "  \n",
    "\n",
    "input_ids = tokenizer(input_text, return_tensors=\"pt\").input_ids\n",
    "\n",
    "outputs = model.generate(input_ids,\n",
    "                            do_sample=True,\n",
    "                            min_length = 1,\n",
    "                            max_length = 300,\n",
    "                            temperature = 0.2,\n",
    "                            top_p = 0.15,\n",
    "                            top_k = 50\n",
    "                            \n",
    "                            )\n",
    "res = tokenizer.decode(outputs[0])\n",
    "res"
   ]
  },
  {
   "cell_type": "code",
   "execution_count": 87,
   "metadata": {},
   "outputs": [
    {
     "data": {
      "text/plain": [
       "'<pad> you start with each data item being a cluster, and then merge clusters recursively to yield a good clustering (Procedure 8.1). The difficulty here is that we need to know a good way to measure the distance between clusters, which can be somewhat harder than the distance between points.</s>'"
      ]
     },
     "execution_count": 87,
     "metadata": {},
     "output_type": "execute_result"
    }
   ],
   "source": [
    "context = '''at the customer records. Instead, you can assign customers to types by clustering\n",
    "the records, then look at what types of customer go to what set of store. This\n",
    "observationyieldsaquitegeneralprocedureforbuildingfeaturesforcomplexsignals\n",
    "(images, sound, accelerometer data). The method can take signals of varying size\n",
    "and produce a ﬁxed size feature vector, which is then used for classiﬁcation.\n",
    "8.1 Agglomerative and Divisive Clustering\n",
    "There are two natural recipes you can use to produce clustering algorithms. In\n",
    "agglomerative clustering , you start with each data item being a cluster, and\n",
    "then merge clusters recursively to yield a good clustering (Procedure 8.1). The\n",
    "diﬃculty here is that we need to know a good way to measure the distance between\n",
    "clusters, which can be somewhat harder than the distance between points. In\n",
    "divisive clustering , you start with the entire dataset being a cluster, and then\n",
    "split clusters recursively to yield a good clustering (Procedure 8.2). The diﬃculty\n",
    "here is we need to know some criterion for splitting clusters.\n",
    "©Springer Nature Switzerland AG 2019\n",
    "D. Forsyth, Applied Machine Learning ,\n",
    "https://doi.org/10.1007/978-3-030-18114-7 8155'''\n",
    "\n",
    "query = 'what is agglomerative clustering'\n",
    "input_text = f\"given the context: {context}, answer the question: {query}.\"\n",
    "\n",
    "  \n",
    "\n",
    "input_ids = tokenizer(input_text, return_tensors=\"pt\").input_ids\n",
    "\n",
    "outputs = model.generate(input_ids,\n",
    "                            do_sample=True,\n",
    "                            min_length = 50,\n",
    "                            max_length = 300,\n",
    "                            temperature = 0.2,\n",
    "                            top_p = 0.15,\n",
    "                            top_k = 50\n",
    "                            \n",
    "                            )\n",
    "res = tokenizer.decode(outputs[0])\n",
    "res\n"
   ]
  },
  {
   "cell_type": "code",
   "execution_count": 3,
   "metadata": {},
   "outputs": [],
   "source": [
    "media_stack_key = '2ffd8d61b58faf7042e7d77ceb1e33b5'"
   ]
  },
  {
   "cell_type": "code",
   "execution_count": 27,
   "metadata": {},
   "outputs": [
    {
     "data": {
      "text/plain": [
       "[{'author': 'Enashree Chakraborty',\n",
       "  'title': 'Amid the 2023 AIG Women’s Open, Rose Zhang Becomes the Flag Bearer of Support as a Fellow Golfer Makes a Dominating Comeback',\n",
       "  'description': 'Breakthrough stories in golf are more than awe-inspiring. They are tremendous motivators for the world to realize that anything is possible as long as we keep a positive and open mind. Ladies&#8217; golf, in particular, is filled with such stories. Be it Nelly Korda at the professional circuit or up-and-coming stars in the Amateur tournaments,&#8230;The post Amid the 2023 AIG Women’s Open, Rose Zhang Becomes the Flag Bearer of Support as a Fellow Golfer Makes a Dominating Comeback appeared first on EssentiallySports.',\n",
       "  'url': 'https://www.essentiallysports.com/golf-news-amid-the-aig-womens-open-rose-zhang-becomes-the-flag-bearer-of-support-as-a-fellow-golfer-makes-a-dominating-comeback-us-womens-am/',\n",
       "  'source': 'Essentially Sports',\n",
       "  'image': 'https://image-cdn.essentiallysports.com/wp-content/uploads/Untitled-design-20-1-40-394x315.jpg',\n",
       "  'category': 'sports',\n",
       "  'language': 'en',\n",
       "  'country': 'us',\n",
       "  'published_at': '2023-08-12T10:52:27+00:00'},\n",
       " {'author': 'Nilendu Brahma',\n",
       "  'title': '“This Is Just the Right Mix of Insane and Genius”- Gamer Shares Never-Seen-Before PC Cooling System Leaving the Community Awestruck',\n",
       "  'description': 'In the world of gaming, we have seen players go to certain extents without bounding themselves to any limits for the love of PC gaming. We&#8217;ve witnessed everything from building a wholly functional controller out of a conventional camera, to taking on the former team in a tournament on McDonald&#8217;s wifi. Now, there&#8217;s a fresh&#8230;The post “This Is Just the Right Mix of Insane and Genius”- Gamer Shares Never-Seen-Before PC Cooling System Leaving the Community Awestruck appeared first on EssentiallySports.',\n",
       "  'url': 'https://www.essentiallysports.com/esports-news-this-is-just-the-right-mix-of-insane-and-genius-gamer-shares-never-seen-before-pc-cooling-system-leaving-the-community-awestruck/',\n",
       "  'source': 'Essentially Sports',\n",
       "  'image': 'https://image-cdn.essentiallysports.com/wp-content/uploads/PC-Setup-503x315.png',\n",
       "  'category': 'sports',\n",
       "  'language': 'en',\n",
       "  'country': 'us',\n",
       "  'published_at': '2023-08-12T11:27:54+00:00'},\n",
       " {'author': 'Jenny Vrentas',\n",
       "  'title': 'England, Bruised but Unbowed, Reaches World Cup Semifinals',\n",
       "  'description': 'The Lionesses, champions of Europe, rallied past Colombia but now face yet another hurdle: a semifinal with host Australia on Wednesday.',\n",
       "  'url': 'https://www.nytimes.com/2023/08/12/sports/soccer/england-colombia-world-cup.html',\n",
       "  'source': 'The New York Times',\n",
       "  'image': 'https://static01.nyt.com/images/2023/08/12/multimedia/12wwc-england-colombia-pfwh/12wwc-england-colombia-pfwh-moth-v2.jpg',\n",
       "  'category': 'sports',\n",
       "  'language': 'en',\n",
       "  'country': 'us',\n",
       "  'published_at': '2023-08-12T12:46:19+00:00'},\n",
       " {'author': 'Souvik Roy',\n",
       "  'title': 'How Much Does Jamie Vernon (Young Jamie) From ‘The Joe Rogan Experience’ Earn? Salary, Net Worth, Profession and More',\n",
       "  'description': 'The noted UFC color commentator, Joe Rogan, boasts a massive following owing to his multi-directional works. After making himself a noted face in standup comedy, Rogan also became the first-ever UFC behind-the-scenes interviewer. He was one of the earliest in the world of podcasting as well. The 56-year-old started his now insanely popular podcast, &#8216;The&#8230;The post How Much Does Jamie Vernon (Young Jamie) From ‘The Joe Rogan Experience’ Earn? Salary, Net Worth, Profession and More appeared first on EssentiallySports.',\n",
       "  'url': 'https://www.essentiallysports.com/ufc-mma-news-how-much-does-jamie-vernon-young-jamie-from-the-joe-rogan-experience-earn-salary-net-worth-profession-and-more/',\n",
       "  'source': 'Essentially Sports',\n",
       "  'image': 'https://image-cdn.essentiallysports.com/wp-content/uploads/Rogan-and-Jamie-560x315.png',\n",
       "  'category': 'sports',\n",
       "  'language': 'en',\n",
       "  'country': 'us',\n",
       "  'published_at': '2023-08-12T13:49:22+00:00'},\n",
       " {'author': 'Tiyasa Biswas',\n",
       "  'title': '“Reward Yourself With a Coca-Cola”: One of Fittest 56-Year-Old, Joe Rogan Gives Fitness Advice to $45 Million Worth Rapper After His Shocking 60 Lbs Transformation',\n",
       "  'description': 'With a rising interest in fitness all over the world, celebrity transformations have emerged to be a source of inspiration for the community. After his unending mission to call out the not-so-natty celebrity transformations, popular UFC commentator Joe Rogan recently hosted $45 million worth of singing sensation Post Malone on his YouTube show, The Joe&#8230;The post “Reward Yourself With a Coca-Cola”: One of Fittest 56-Year-Old, Joe Rogan Gives Fitness Advice to $45 Million Worth Rapper After His Shocking 60 Lbs Transformation appeared first on EssentiallySports.',\n",
       "  'url': 'https://www.essentiallysports.com/bodybuilding-news-ufc-mma-news-reward-yourself-with-a-coca-cola-one-of-fittest-fifty-six-year-old-joe-rogan-gives-fitness-advice-to-million-worth-rapper-after-his-shocking-sixty-lbs-transformation/',\n",
       "  'source': 'Essentially Sports',\n",
       "  'image': 'https://image-cdn.essentiallysports.com/wp-content/uploads/Joe-Rogan-6-48-560x315.jpg',\n",
       "  'category': 'sports',\n",
       "  'language': 'en',\n",
       "  'country': 'us',\n",
       "  'published_at': '2023-08-12T14:00:24+00:00'},\n",
       " {'author': 'Pallavi Das',\n",
       "  'title': 'Despite Being Jacked With 6-Pack Abs, 51-YO Man Gets Thrashed by Fitness World for Not Disclosing the Entire Story Behind His Physique',\n",
       "  'description': 'Silverback Tarzan aka Matt Lewis, prances around the ground like a teenager. He is as agile as a young man, but his grey hair shows maturity beyond years. Lewis claims to be a natural fitness enthusiast. He shot to fame owing to his jacked musculature at 51 years. His veiny arms and dry conditioning are&#8230;The post Despite Being Jacked With 6-Pack Abs, 51-YO Man Gets Thrashed by Fitness World for Not Disclosing the Entire Story Behind His Physique appeared first on EssentiallySports.',\n",
       "  'url': 'https://www.essentiallysports.com/bodybuilding-news-despite-being-jacked-with-six-pack-abs-yo-man-gets-thrashed-by-fitness-world-for-not-disclosing-the-entire-story-behind-his-physique/',\n",
       "  'source': 'Essentially Sports',\n",
       "  'image': 'https://image-cdn.essentiallysports.com/wp-content/uploads/WhatsApp-Image-2023-08-12-at-18.02.21-315x315.jpeg',\n",
       "  'category': 'sports',\n",
       "  'language': 'en',\n",
       "  'country': 'us',\n",
       "  'published_at': '2023-08-12T15:53:54+00:00'},\n",
       " {'author': 'Soumyadeep Saha',\n",
       "  'title': 'Dale Earnhardt Jr. Issues Another Wake-Up Call for Former Team and Toyota',\n",
       "  'description': 'Among the three top-tier races that NASCAR hosts every year, the Cup Series probably holds the greatest prospect for full-time drivers. And the semi-final of the Cup Series championship is starting in just a few weeks. In other words, there are just three races until the playoffs commence. And with prominent names in the sport&#8230;The post Dale Earnhardt Jr. Issues Another Wake-Up Call for Former Team and Toyota appeared first on EssentiallySports.',\n",
       "  'url': 'https://www.essentiallysports.com/nascar-news-dale-earnhardt-jr-issues-another-wake-up-call-for-former-team-and-toyota/',\n",
       "  'source': 'Essentially Sports',\n",
       "  'image': 'https://image-cdn.essentiallysports.com/wp-content/uploads/GettyImages-1390165359-460x315.jpg',\n",
       "  'category': 'sports',\n",
       "  'language': 'en',\n",
       "  'country': 'us',\n",
       "  'published_at': '2023-08-12T15:56:59+00:00'},\n",
       " {'author': 'Suryakant das',\n",
       "  'title': 'Moments After Conor McGregor’s Bare Knuckle Offer for KSI at Joshua vs Helenius, Jake Paul Reminded of Failure by the YouTuber',\n",
       "  'description': 'Have you ever wondered what happens when the realms of YouTube stardom and combat sports collide? In a surprising turn of events, two distinct worlds appear to be converging. Conor McGregor, the legendary MMA fighter, issues a bold challenge to KSI, the YouTube sensation turned pugilist.\\xa0McGregor&#8217;s audacious call-out has sparked fervent discussions and stirred the&#8230;The post Moments After Conor McGregor’s Bare Knuckle Offer for KSI at Joshua vs Helenius, Jake Paul Reminded of Failure by the YouTuber appeared first on EssentiallySports.',\n",
       "  'url': 'https://www.essentiallysports.com/ufc-mma-news-moments-after-conor-mcgregors-bare-knuckle-offer-for-ksi-at-joshua-vs-helenius-jake-paul-reminded-of-failure-by-the-youtuber/',\n",
       "  'source': 'Essentially Sports',\n",
       "  'image': 'https://image-cdn.essentiallysports.com/wp-content/uploads/Bryce-Hall-2-560x315.png',\n",
       "  'category': 'sports',\n",
       "  'language': 'en',\n",
       "  'country': 'us',\n",
       "  'published_at': '2023-08-13T02:38:14+00:00'},\n",
       " {'author': 'David Suggs',\n",
       "  'title': 'What time does the NASCAR race start today? TV schedule, channel for 2023 Indianapolis race',\n",
       "  'description': 'Chris Buescher seeks a third straight win as the Cup Series prepares for its final three races of the regular season.',\n",
       "  'url': 'https://www.sportingnews.com/us/nascar/news/nascar-race-time-today-schedule-channel-indianapolis-brickyard/fgtxnqi2kevcw7k26it7fmze',\n",
       "  'source': 'Sporting News',\n",
       "  'image': 'https://library.sportingnews.com/2021-08/indy-brickyard-400-071615-ap-ftrjpg_66e0r1rmoyh9166uw5uh0y12s.jpg',\n",
       "  'category': 'sports',\n",
       "  'language': 'en',\n",
       "  'country': 'us',\n",
       "  'published_at': '2023-08-13T12:51:00+00:00'},\n",
       " {'author': 'Ranjitha Ramesh',\n",
       "  'title': '“Like He Was Playing in the Finals…”: 3x NBA All Star Ponders on Kobe Bryant’s Impact on Him With Trae Young',\n",
       "  'description': 'In a constantly changing world, there remain only a few individuals whose influence endures. Even after his tragic passing in 2020, Kobe Bryant still remains one of those icons whose influence continues to be felt deeply. Five NBA titles and a 20-year career with the \\xa0Los Angeles Lakers are just a few of his on-court&#8230;The post “Like He Was Playing in the Finals…”: 3x NBA All Star Ponders on Kobe Bryant’s Impact on Him With Trae Young appeared first on EssentiallySports.',\n",
       "  'url': 'https://www.essentiallysports.com/nba-active-basketball-news-like-he-was-playing-in-the-finals-three-x-nba-all-star-ponders-on-kobe-bryants-impact-on-him-with-trae-young-gilbert-arenas/',\n",
       "  'source': 'Essentially Sports',\n",
       "  'image': 'https://image-cdn.essentiallysports.com/wp-content/uploads/Kobe-Bryant-Trae-Young-560x294.jpeg',\n",
       "  'category': 'sports',\n",
       "  'language': 'en',\n",
       "  'country': 'us',\n",
       "  'published_at': '2023-08-13T14:32:39+00:00'}]"
      ]
     },
     "execution_count": 27,
     "metadata": {},
     "output_type": "execute_result"
    }
   ],
   "source": [
    "\n",
    "query = 'baseball world series'\n",
    "import json\n",
    "# Python 3\n",
    "import http.client, urllib.parse\n",
    "\n",
    "conn = http.client.HTTPConnection('api.mediastack.com')\n",
    "\n",
    "params = urllib.parse.urlencode({\n",
    "    'access_key': media_stack_key,\n",
    "    'keywords': query,\n",
    "    'sort': 'popularity',\n",
    "    'limit': 10,\n",
    "    'countries': 'us',\n",
    "    'languages': 'en'\n",
    "        #'sources': ' usatoday, abcnews, nbcnews, usnews'\n",
    "        })\n",
    "\n",
    "conn.request('GET', '/v1/news?{}'.format(params))\n",
    "\n",
    "res = conn.getresponse()\n",
    "data = res.read()\n",
    "\n",
    "\n",
    "\n",
    "data =json.loads(data.decode('utf-8'))\n",
    "data['data']"
   ]
  },
  {
   "cell_type": "code",
   "execution_count": 6,
   "metadata": {},
   "outputs": [
    {
     "data": {
      "text/plain": [
       "b'{\"pagination\":{\"limit\":10,\"offset\":0,\"count\":10,\"total\":4519},\"data\":[{\"author\":null,\"title\":\"Hurricane Hilary expected to strengthen to Category 4 before weakening, dumping rain over California and Southwest US this weekend\",\"description\":\"Hurricane Hilary is expected to intensify into a lashing Category 4 storm as it nears Mexico\\\\u0027s Baja Peninsula on Friday and then weaken over the weekend, bringing rain and flooding to parts of the Southwest US.\",\"url\":\"https:\\\\/\\\\/www.cnn.com\\\\/2023\\\\/08\\\\/18\\\\/weather\\\\/hurricane-hilary-rain-flooding-forecast-friday\\\\/index.html\",\"source\":\"CNN\",\"image\":\"https:\\\\/\\\\/cdn.cnn.com\\\\/cnnnext\\\\/dam\\\\/assets\\\\/230817232659-01-hurricane-hilary-category-3-friday-super-169.jpg\",\"category\":\"general\",\"language\":\"en\",\"country\":\"us\",\"published_at\":\"2023-08-18T05:30:23+00:00\"},{\"author\":\"Judson Jones\",\"title\":\"What to Expect From Hurricane Hilary: Day-by-Day Forecast\",\"description\":\"Here\\\\u2019s what to expect each day as the storm moves north.\",\"url\":\"https:\\\\/\\\\/www.nytimes.com\\\\/2023\\\\/08\\\\/18\\\\/us\\\\/hurricane-hilary-forecast.html\",\"source\":\"The New York Times\",\"image\":null,\"category\":\"general\",\"language\":\"en\",\"country\":\"us\",\"published_at\":\"2023-08-18T15:24:14+00:00\"},{\"author\":\"Corina Knoll and Aline Corpus\",\"title\":\"California and Mexico Prepare for Hurricane Hilary Flooding, Winds\",\"description\":\"Hurricane Hilary, now a Category 4 storm, has prompted flood warnings in Southern California and temporary shelters in Baja California, Mexico.\",\"url\":\"https:\\\\/\\\\/www.nytimes.com\\\\/2023\\\\/08\\\\/18\\\\/us\\\\/hurricane-hilary-flooding-california-mexico.html\",\"source\":\"The New York Times\",\"image\":\"https:\\\\/\\\\/static01.nyt.com\\\\/images\\\\/2023\\\\/08\\\\/18\\\\/multimedia\\\\/18hilary-preo-subs-2-bthm\\\\/18hilary-preo-subs-2-bthm-moth-v2.jpg\",\"category\":\"general\",\"language\":\"en\",\"country\":\"us\",\"published_at\":\"2023-08-19T00:07:39+00:00\"},{\"author\":\"\",\"title\":\"Hurricane Hilary threatens US\",\"description\":\"The Pacific coast of the US is preparing for catastrophic flooding and weather from Hurricane Hilary.\",\"url\":\"https:\\\\/\\\\/www.smh.com.au\\\\/world\\\\/hurricane-hilary-threatens-us-20230820-p5dxvw.html?ref=rss\\\\u0026utm_medium=rss\\\\u0026utm_source=rss_world\",\"source\":\"The Sydney Morning Herald\",\"image\":\"https:\\\\/\\\\/static.ffx.io\\\\/images\\\\/$width_800%2C$height_450\\\\/t_crop_fill\\\\/q_86%2Cf_jpg\\\\/48bf831d064254211d2e42b3afba8f286de0a6d9\",\"category\":\"general\",\"language\":\"en\",\"country\":\"au\",\"published_at\":\"2023-08-19T21:39:23+00:00\"},{\"author\":\"Sam Roberts\",\"title\":\"Jerome Hauer, 71, Manager of Catastrophes and Other Crises, Dies\",\"description\":\"Working for New York City, New York State and the U.S. government, he made a career of preparing for the worst and then dealing with it, from 9\\\\/11 to hurricanes.\",\"url\":\"https:\\\\/\\\\/www.nytimes.com\\\\/2023\\\\/08\\\\/18\\\\/nyregion\\\\/jerome-hauer-dead.html\",\"source\":\"The New York Times\",\"image\":\"https:\\\\/\\\\/static01.nyt.com\\\\/images\\\\/2023\\\\/08\\\\/17\\\\/multimedia\\\\/17Hauer1-lzbk\\\\/17Hauer1-lzbk-moth.jpg\",\"category\":\"science\",\"language\":\"en\",\"country\":\"us\",\"published_at\":\"2023-08-19T15:09:40+00:00\"},{\"author\":null,\"title\":\"Hurricane Hilary: California, Mexico brace for flooding\",\"description\":\"Forecasters say Hilary could bring \\\\u0022potentially catastrophic\\\\u0022 flooding when it makes landfall in Mexico\\\\u0027s Baja California state. California, meanwhile, is preparing for its first tropical storm in 84 years.\",\"url\":\"https:\\\\/\\\\/www.dw.com\\\\/en\\\\/hurricane-hilary-california-mexico-brace-for-flooding\\\\/a-66575754?maca=en-rss-en-all-1573-rdf\",\"source\":\"Deutsche Welle\",\"image\":null,\"category\":\"general\",\"language\":\"en\",\"country\":\"de\",\"published_at\":\"2023-08-19T18:02:00+00:00\"},{\"author\":null,\"title\":\"California braces for arrival of Hurricane Hilary\",\"description\":\"Hurricane Hilary lashes Baja California state and is headed for the south-western US.\",\"url\":\"https:\\\\/\\\\/www.bbc.co.uk\\\\/news\\\\/world-us-canada-66559623?at_medium=RSS\\\\u0026at_campaign=KARANGA\",\"source\":\"BBC News - World\",\"image\":null,\"category\":\"general\",\"language\":\"en\",\"country\":\"gb\",\"published_at\":\"2023-08-20T14:40:31+00:00\"},{\"author\":\"\",\"title\":\"California struck by earthquake in midst of ex-hurricane Hilary\",\"description\":\"Parts of Southern California have been rattled by a magnitude 5.1 earthquake as the state endures tropical storm Hilary.\",\"url\":\"https:\\\\/\\\\/www.smh.com.au\\\\/world\\\\/california-struck-by-earthquake-in-midst-of-ex-hurricane-hilary-20230821-p5dy2m.html?ref=rss\\\\u0026utm_medium=rss\\\\u0026utm_source=rss_feed\",\"source\":\"The Sydney Morning Herald\",\"image\":\"https:\\\\/\\\\/static.ffx.io\\\\/images\\\\/$width_800%2C$height_450\\\\/t_crop_fill\\\\/q_86%2Cf_jpg\\\\/c075a54b15769b2b1ed04eb6dac4c55dcf8fcab0\",\"category\":\"general\",\"language\":\"en\",\"country\":\"au\",\"published_at\":\"2023-08-20T22:16:39+00:00\"},{\"author\":\"\",\"title\":\"California struck by earthquake in midst of ex-hurricane Hilary\",\"description\":\"Parts of Southern California have been rattled by a magnitude 5.1 earthquake as the state endures tropical storm Hilary.\",\"url\":\"https:\\\\/\\\\/www.theage.com.au\\\\/world\\\\/california-struck-by-earthquake-in-midst-of-ex-hurricane-hilary-20230821-p5dy2m.html?ref=rss\\\\u0026utm_medium=rss\\\\u0026utm_source=rss_world\",\"source\":\"The Age\",\"image\":\"https:\\\\/\\\\/static.ffx.io\\\\/images\\\\/$width_800%2C$height_450\\\\/t_crop_fill\\\\/q_86%2Cf_jpg\\\\/c075a54b15769b2b1ed04eb6dac4c55dcf8fcab0\",\"category\":\"general\",\"language\":\"en\",\"country\":\"au\",\"published_at\":\"2023-08-20T22:16:39+00:00\"},{\"author\":\"J. Besl\",\"title\":\"Hurricane Harvey Filled Houston with Sediment\",\"description\":\"The storm\\\\u2019s record-setting rains moved an equally impressive amount of sediment and elevated the risk and expense of absorbing all that muck.\",\"url\":\"https:\\\\/\\\\/eos.org\\\\/articles\\\\/hurricane-harvey-filled-houston-with-sediment\",\"source\":\"Eos: Earth And Space Science News\",\"image\":\"https:\\\\/\\\\/i0.wp.com\\\\/eos.org\\\\/wp-content\\\\/uploads\\\\/2023\\\\/10\\\\/houston-hurricane-harvey-sediment.jpg?fit=780%2C439\\\\u0026ssl=1\",\"category\":\"science\",\"language\":\"en\",\"country\":\"us\",\"published_at\":\"2023-10-06T12:40:49+00:00\"}]}'"
      ]
     },
     "execution_count": 6,
     "metadata": {},
     "output_type": "execute_result"
    }
   ],
   "source": []
  },
  {
   "cell_type": "code",
   "execution_count": 70,
   "metadata": {},
   "outputs": [],
   "source": [
    "from newscatcherapi import NewsCatcherApiClient\n",
    "from dotenv import load_dotenv\n",
    "from flask import Flask, request, jsonify\n",
    "import os\n",
    "import streamlit as st\n",
    "from langchain.document_loaders import PyPDFLoader\n",
    "from langchain.text_splitter import RecursiveCharacterTextSplitter\n",
    "from transformers import pipeline\n",
    "from rank_bm25 import BM25Okapi\n",
    "from transformers import T5Tokenizer, T5ForConditionalGeneration\n",
    "from transformers import AutoTokenizer, AutoModelForSeq2SeqLM\n",
    "from transformers import AutoModelForQuestionAnswering, AutoTokenizer, pipeline\n",
    "from langchain.embeddings.sentence_transformer import SentenceTransformerEmbeddings\n",
    "from langchain.vectorstores import FAISS\n",
    "\n"
   ]
  },
  {
   "cell_type": "code",
   "execution_count": 56,
   "metadata": {},
   "outputs": [],
   "source": [
    "loader = PyPDFLoader(\"CS441 Textbook.pdf\")\n",
    "docs = loader.load()\n",
    "\n",
    "CHUNK_SIZE = 1500\n",
    "CHUNK_OVERLAP = 200\n",
    "\n",
    "text_splitter = RecursiveCharacterTextSplitter(\n",
    "            chunk_size=CHUNK_SIZE,\n",
    "            chunk_overlap=CHUNK_OVERLAP\n",
    "        )\n",
    "texts = text_splitter.split_documents(docs)"
   ]
  },
  {
   "cell_type": "code",
   "execution_count": 108,
   "metadata": {},
   "outputs": [],
   "source": [
    "from bm25 import BM25_algorithm\n",
    "import numpy as np\n",
    "\n",
    "input_query = 'what is agglomerative clustering'\n",
    "\n",
    "metadata = []\n",
    "doc_content = []\n",
    "for i in range(len(texts)):\n",
    "    metadata.append(texts[i].metadata)\n",
    "    doc_content.append(texts[i].page_content)\n",
    "\n",
    "bm25_corpus = BM25_algorithm(doc_content, k=1.2, b=0.75)\n",
    "\n",
    "bm25_scores = bm25_corpus.calculate_scores(input_query)\n",
    "\n",
    "ind = np.argpartition(bm25_scores, -5)[-5:]\n",
    "ind = ind.tolist()\n",
    "\n",
    "relevant_passages = ' ,'.join(np.array(doc_content)[ind])\n",
    "#bm25_context = str([i.page_content for i in relevant_passages])\n",
    "#metadata = np.array(metadata)[ind]\n",
    "metadata = 'placeholder'\n",
    "similarity = np.array(bm25_scores)[ind]\n",
    "\n",
    "\n",
    "input_text = f\"given the context: {relevant_passages}, answer the question: {query}.\"\n",
    "\n",
    "#print(bm25_context)\n",
    "\n",
    "input_ids = tokenizer(input_text, return_tensors=\"pt\").input_ids\n",
    "\n",
    "outputs = model.generate(input_ids,\n",
    "                            do_sample=True,\n",
    "                            min_length = 50,\n",
    "                            max_length = 150,\n",
    "                            temperature = 0.2,\n",
    "                            top_p = 0.15,\n",
    "                            top_k = 50\n",
    "                            \n",
    "                            )\n",
    "res = tokenizer.decode(outputs[0])\n",
    "res\n"
   ]
  },
  {
   "cell_type": "code",
   "execution_count": 104,
   "metadata": {},
   "outputs": [
    {
     "name": "stdout",
     "output_type": "stream",
     "text": [
      "['8.1. Agglomerative and Divisive Clustering 157distance\\n1234561\\n2\\n34561 cluster\\n2 clusters\\n6 clusters\\nFigure 8.1: Left, a dataset; right, a dendrogram obtained by agglomerative cluster-\\ning using single-link clustering. If one selects a particular value of distance, thena horizontal line at that distance splits the dendrogram into clusters. This repre-\\nsentation makes it possible to guess how many clusters there are and to get some\\ninsight into how good the clusters are\\n8.1.1 Clustering and Distance\\nIn the algorithms above, and in what follows, we assume that the features are scaled\\nso that distances (measured in the usual way) between data points are a good\\nrepresentation of their similarity. This is quite an important point. For example,\\nimagine we are clustering data representing brick walls. The features might containseveral distances: the spacing between the bricks, the length of the wall, the height\\nof the wall, and so on. If these distances are given in the same set of units, we could\\nhave real trouble. For example, assume that the units are centimeters. Then thespacing between bricks is of the order of one or two centimeters, but the heights\\nof the walls will be in the hundreds of centimeters. In turn, this means that the\\ndistance between two data points is likely to be completely dominated by the height\\nand length data. This could bewhat we want, but it might also not beagood thing.\\nThere are some ways to manage this issue. One is to know what the features', '8.1. Agglomerative and Divisive Clustering 156\\nProcedure: 8.1 Agglomerative Clustering\\nChoose an inter-cluster distance. Make each point a separate cluster.\\nNow, until the clustering is satisfactory,\\n•Merge the two clusters with the smallest inter-cluster distance.\\nProcedure: 8.2 Divisive Clustering\\nChoose a splitting criterion. Regard the entire dataset as a single clus-\\nter. Now, until the clustering is satisfactory,\\n•choose a cluster to split;\\n•then split this cluster into two parts.\\nTo turn these recipes into algorithms requires some more detail. For agglom-\\nerative clustering, we need to choose a good inter-cluster distance to fuse nearby\\nclusters. Even if a natural distance between data points is available, there is no\\ncanonical inter-cluster distance. Generally, one chooses a distance that seems ap-propriate for the dataset. For example, one might choose the distance between the\\nclosest elements as the inter-cluster distance, which tends to yield extended clusters\\n(statisticians call this method single-link clustering ). Another natural choice is\\nthemaximum distancebetweenanelementoftheﬁrstclusterandoneofthesecond,\\nwhich tends to yield rounded clusters (statisticians call this method complete-link\\nclustering ). Finally, one could use an average of distances between elements in the\\ncluster, which also tends to yield rounded clusters (statisticians call this method\\ngroup average clustering ).\\nFordivisiveclustering,weneedasplittingmethod. Thistendstobesomething', 'cluster, which also tends to yield rounded clusters (statisticians call this method\\ngroup average clustering ).\\nFordivisiveclustering,weneedasplittingmethod. Thistendstobesomething\\nthatfollowsfromthelogicoftheapplication, becausetheidealisaneﬃcientmethod\\nto ﬁnd a natural split in a large dataset. We won’t pursue this question further.\\nFinally, we need to know when to stop. This is an intrinsically diﬃcult task\\nif there is no model for the process that generated the clusters. The recipes I have\\ndescribed generate a hierarchy of clusters. Usually, this hierarchy is displayed toau s e ri nt h ef o r mo fa dendrogram —a representation of the structure of the hi-\\nerarchy of clusters that displays inter-cluster distances—and an appropriate choice\\nof clusters is made from the dendrogram (see the example in Fig. 8.1).\\nAnother important thing to notice about clustering from the example of\\nFig.8.1is that there is no right answer. There are a variety of diﬀerent clusterings\\nof the same data. For example, depending on what scales in that ﬁgure mean, itmight be right to zoom out and regard all of the data as a single cluster, or to zoom\\nin and regard each data point as a cluster. Each of these representations may be\\nuseful.', 'at the customer records. Instead, you can assign customers to types by clustering\\nthe records, then look at what types of customer go to what set of store. This\\nobservationyieldsaquitegeneralprocedureforbuildingfeaturesforcomplexsignals\\n(images, sound, accelerometer data). The method can take signals of varying size\\nand produce a ﬁxed size feature vector, which is then used for classiﬁcation.\\n8.1 Agglomerative and Divisive Clustering\\nThere are two natural recipes you can use to produce clustering algorithms. In\\nagglomerative clustering , you start with each data item being a cluster, and\\nthen merge clusters recursively to yield a good clustering (Procedure 8.1). The\\ndiﬃculty here is that we need to know a good way to measure the distance between\\nclusters, which can be somewhat harder than the distance between points. In\\ndivisive clustering , you start with the entire dataset being a cluster, and then\\nsplit clusters recursively to yield a good clustering (Procedure 8.2). The diﬃculty\\nhere is we need to know some criterion for splitting clusters.\\n©Springer Nature Switzerland AG 2019\\nD. Forsyth, Applied Machine Learning ,\\nhttps://doi.org/10.1007/978-3-030-18114-7 8155']\n"
     ]
    },
    {
     "data": {
      "text/plain": [
       "'<pad> agglomerative clustering is a clustering algorithm that uses a dendrogram to visualize the structure of the hi-<unk> nerarchy of clusters that displays inter-cluster distances.<unk> n<unk> nProcedure: 8.1 Agglomerative Clustering<unk> nChoose an inter-cluster distance. Make each point a separate cluster.<unk> nNow, until the clustering is satisfactory,<unk> n•Merge the two clusters with the smallest inter-cluster distance.<unk> nProcedure: 8.2 Divisive Clustering<unk>nChoose a splitting criterion. Regard the entire dataset as a'"
      ]
     },
     "execution_count": 104,
     "metadata": {},
     "output_type": "execute_result"
    }
   ],
   "source": [
    "from rank_bm25 import BM25Okapi\n",
    "\n",
    "input_query = 'agglomerative clustering'\n",
    "\n",
    "metadata = []\n",
    "doc_content = []\n",
    "for i in range(len(texts)):\n",
    "    metadata.append(texts[i].metadata)\n",
    "    doc_content.append(texts[i].page_content)\n",
    "\n",
    "\n",
    "bm25_corpus = BM25Okapi(doc_content)\n",
    "\n",
    "bm25_scores = bm25_corpus.get_scores(input_query)\n",
    "\n",
    "bm25_corpus.get_top_n(input_query, doc_content, n=4)\n",
    "bm25_context = str([i.page_content for i in docs])\n",
    "\n",
    "input_text = f\"given the context: {bm25_context}, answer the question: {query}.\"\n",
    "\n",
    "print(bm25_context)\n",
    "\n",
    "input_ids = tokenizer(input_text, return_tensors=\"pt\").input_ids\n",
    "\n",
    "outputs = model.generate(input_ids,\n",
    "                            do_sample=True,\n",
    "                            min_length = 50,\n",
    "                            max_length = 150,\n",
    "                            temperature = 0.2,\n",
    "                            top_p = 0.15,\n",
    "                            top_k = 50\n",
    "                            \n",
    "                            )\n",
    "res = tokenizer.decode(outputs[0])\n",
    "res"
   ]
  },
  {
   "cell_type": "code",
   "execution_count": 73,
   "metadata": {},
   "outputs": [],
   "source": [
    "embedding_function = SentenceTransformerEmbeddings(model_name='all-MiniLM-L6-v2')\n",
    "vector_store = FAISS.from_documents(texts, embedding_function)"
   ]
  },
  {
   "cell_type": "code",
   "execution_count": 96,
   "metadata": {},
   "outputs": [],
   "source": [
    "docs = vector_store.similarity_search('what is agglomerative clustering')\n",
    "context = str([i.page_content for i in docs])"
   ]
  },
  {
   "cell_type": "code",
   "execution_count": 100,
   "metadata": {},
   "outputs": [
    {
     "data": {
      "text/plain": [
       "\"<pad> [Document(page_content='8.1. Agglomerative and Divisive Clustering 157distance<unk> n1234561<unk> n2<unk> n34561 cluster<unk> n2 clusters<unk> n6 clusters<unk> nFigure 8.1: Left, a dataset; right, a dendrogram obtained by agglomerative cluster-<unk> ning using single-link clustering. If one selects a particular value of distance, thena horizontal line at that distance splits the dendrogram into clusters. This repre-<unk> nsentation makes it possible to guess how many clusters there are and to get some<unk> ninsight into how good the clusters are<unk> n8.1.1 Clustering and Distance<unk> nIn the algorithms above, and in what follows, we assume that the features are scaled<unk> nso that distances (measured in the usual way) between data points are a good<unk> nrepresentation of their similarity. This is quite an important point. For example,<unk> nimagine we are clustering data representing brick walls. The features might containseveral distances: the spacing between the bricks, the length of the wall, the height<unk> nof the wall, and so on. If these distances are given in the same set of units, we could<unk> nhave real trouble. For example,<unk>nimagine we are\""
      ]
     },
     "execution_count": 100,
     "metadata": {},
     "output_type": "execute_result"
    }
   ],
   "source": [
    "query = 'what is agglomerative clustering'\n",
    "input_text = f\"given the context: {context}, answer the question: {query}.\"\n",
    "\n",
    "  \n",
    "\n",
    "input_ids = tokenizer(input_text, return_tensors=\"pt\").input_ids\n",
    "\n",
    "outputs = model.generate(input_ids,\n",
    "                            do_sample=True,\n",
    "                            min_length = 50,\n",
    "                            max_length = 300,\n",
    "                            temperature = 0.2,\n",
    "                            top_p = 0.15,\n",
    "                            top_k = 50\n",
    "                            \n",
    "                            )\n",
    "res = tokenizer.decode(outputs[0])\n",
    "res"
   ]
  },
  {
   "cell_type": "code",
   "execution_count": 98,
   "metadata": {},
   "outputs": [
    {
     "data": {
      "text/plain": [
       "'<pad> agglomerative clustering is a clustering algorithm that uses a dendrogram to visualize the structure of the hi-<unk> nerarchy of clusters that displays inter-cluster distances.<unk> n<unk> nProcedure: 8.1 Agglomerative Clustering<unk> nChoose an inter-cluster distance. Make each point a separate cluster.<unk> nNow, until the clustering is satisfactory,<unk> n•Merge the two clusters with the smallest inter-cluster distance.<unk> nProcedure: 8.2 Divisive Clustering<unk> nChoose a splitting criterion. Regard the entire dataset as a single clus-<unk> nter. Now, until the clustering is satisfactory,<unk> n•choose a cluster to split;<unk> nthen split this cluster into two parts.<unk> nTo turn these recipes into algorithms requires some more detail. For agglomerative clustering, we need to choose a good inter-cluster distance to fuse nearby clusters. Even if a natural distance between data points is available, there is no canonical inter-cluster distance. Generally, one chooses a distance that seems ap-propriate for the dataset. For example, one might choose the distance between the<unk>nclosest elements as the inter-c'"
      ]
     },
     "execution_count": 98,
     "metadata": {},
     "output_type": "execute_result"
    }
   ],
   "source": []
  },
  {
   "cell_type": "code",
   "execution_count": null,
   "metadata": {},
   "outputs": [],
   "source": []
  }
 ],
 "metadata": {
  "kernelspec": {
   "display_name": ".venv",
   "language": "python",
   "name": "python3"
  },
  "language_info": {
   "codemirror_mode": {
    "name": "ipython",
    "version": 3
   },
   "file_extension": ".py",
   "mimetype": "text/x-python",
   "name": "python",
   "nbconvert_exporter": "python",
   "pygments_lexer": "ipython3",
   "version": "3.11.6"
  },
  "orig_nbformat": 4
 },
 "nbformat": 4,
 "nbformat_minor": 2
}
